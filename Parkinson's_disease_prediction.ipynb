{
  "cells": [
    {
      "cell_type": "markdown",
      "metadata": {
        "id": "UnlaFttS1VLh"
      },
      "source": [
        "#Loading dataset"
      ]
    },
    {
      "cell_type": "markdown",
      "metadata": {
        "id": "KnkrcE7FyHv9"
      },
      "source": [
        "Load the dataset from the following link using pandas into a dataframe:\n",
        "\n",
        "https://archive.ics.uci.edu/ml/machine-learning-databases/parkinsons/parkinsons.data\n"
      ]
    },
    {
      "cell_type": "code",
      "execution_count": null,
      "metadata": {
        "id": "-fkSsHCzbtqD"
      },
      "outputs": [],
      "source": [
        "import requests\n",
        "import pandas as pd\n",
        "from imblearn.over_sampling import SMOTE\n",
        "import seaborn as sns\n",
        "import matplotlib.pyplot as plt\n",
        "\n",
        "from sklearn.preprocessing import MinMaxScaler\n",
        "from sklearn.model_selection import train_test_split\n",
        "from sklearn.model_selection import GridSearchCV\n",
        "from sklearn.ensemble import RandomForestClassifier\n",
        "from sklearn.tree import DecisionTreeClassifier\n",
        "from sklearn.linear_model import LogisticRegression\n",
        "from sklearn.neighbors import KNeighborsClassifier\n",
        "from sklearn import svm\n",
        "from sklearn.svm import SVC\n",
        "from sklearn.naive_bayes import GaussianNB as Naive_Bayes\n",
        "from sklearn import metrics\n",
        "from sklearn.metrics import classification_report\n",
        "from sklearn.metrics import confusion_matrix\n",
        "from sklearn.metrics import accuracy_score\n",
        "from sklearn.model_selection import cross_val_score\n",
        "from sklearn.datasets import make_classification\n",
        "from sklearn.metrics import plot_confusion_matrix\n",
        "from xgboost import XGBClassifier\n",
        "from sklearn.metrics import roc_auc_score\n",
        "\n",
        "\n",
        "from IPython.display import display"
      ]
    },
    {
      "cell_type": "code",
      "execution_count": null,
      "metadata": {
        "colab": {
          "base_uri": "https://localhost:8080/",
          "height": 300
        },
        "id": "Q0nfVw-FyG3P",
        "outputId": "eea1f808-966f-4a3b-94eb-19b9aecc4553"
      },
      "outputs": [
        {
          "output_type": "execute_result",
          "data": {
            "text/plain": [
              "             name  MDVP:Fo(Hz)  MDVP:Fhi(Hz)  MDVP:Flo(Hz)  MDVP:Jitter(%)  \\\n",
              "0  phon_R01_S01_1      119.992       157.302        74.997         0.00784   \n",
              "1  phon_R01_S01_2      122.400       148.650       113.819         0.00968   \n",
              "2  phon_R01_S01_3      116.682       131.111       111.555         0.01050   \n",
              "3  phon_R01_S01_4      116.676       137.871       111.366         0.00997   \n",
              "4  phon_R01_S01_5      116.014       141.781       110.655         0.01284   \n",
              "\n",
              "   MDVP:Jitter(Abs)  MDVP:RAP  MDVP:PPQ  Jitter:DDP  MDVP:Shimmer  ...  \\\n",
              "0           0.00007   0.00370   0.00554     0.01109       0.04374  ...   \n",
              "1           0.00008   0.00465   0.00696     0.01394       0.06134  ...   \n",
              "2           0.00009   0.00544   0.00781     0.01633       0.05233  ...   \n",
              "3           0.00009   0.00502   0.00698     0.01505       0.05492  ...   \n",
              "4           0.00011   0.00655   0.00908     0.01966       0.06425  ...   \n",
              "\n",
              "   Shimmer:DDA      NHR     HNR  status      RPDE       DFA   spread1  \\\n",
              "0      0.06545  0.02211  21.033       1  0.414783  0.815285 -4.813031   \n",
              "1      0.09403  0.01929  19.085       1  0.458359  0.819521 -4.075192   \n",
              "2      0.08270  0.01309  20.651       1  0.429895  0.825288 -4.443179   \n",
              "3      0.08771  0.01353  20.644       1  0.434969  0.819235 -4.117501   \n",
              "4      0.10470  0.01767  19.649       1  0.417356  0.823484 -3.747787   \n",
              "\n",
              "    spread2        D2       PPE  \n",
              "0  0.266482  2.301442  0.284654  \n",
              "1  0.335590  2.486855  0.368674  \n",
              "2  0.311173  2.342259  0.332634  \n",
              "3  0.334147  2.405554  0.368975  \n",
              "4  0.234513  2.332180  0.410335  \n",
              "\n",
              "[5 rows x 24 columns]"
            ],
            "text/html": [
              "\n",
              "  <div id=\"df-31f09222-e345-45e4-85ec-87258767f9b6\">\n",
              "    <div class=\"colab-df-container\">\n",
              "      <div>\n",
              "<style scoped>\n",
              "    .dataframe tbody tr th:only-of-type {\n",
              "        vertical-align: middle;\n",
              "    }\n",
              "\n",
              "    .dataframe tbody tr th {\n",
              "        vertical-align: top;\n",
              "    }\n",
              "\n",
              "    .dataframe thead th {\n",
              "        text-align: right;\n",
              "    }\n",
              "</style>\n",
              "<table border=\"1\" class=\"dataframe\">\n",
              "  <thead>\n",
              "    <tr style=\"text-align: right;\">\n",
              "      <th></th>\n",
              "      <th>name</th>\n",
              "      <th>MDVP:Fo(Hz)</th>\n",
              "      <th>MDVP:Fhi(Hz)</th>\n",
              "      <th>MDVP:Flo(Hz)</th>\n",
              "      <th>MDVP:Jitter(%)</th>\n",
              "      <th>MDVP:Jitter(Abs)</th>\n",
              "      <th>MDVP:RAP</th>\n",
              "      <th>MDVP:PPQ</th>\n",
              "      <th>Jitter:DDP</th>\n",
              "      <th>MDVP:Shimmer</th>\n",
              "      <th>...</th>\n",
              "      <th>Shimmer:DDA</th>\n",
              "      <th>NHR</th>\n",
              "      <th>HNR</th>\n",
              "      <th>status</th>\n",
              "      <th>RPDE</th>\n",
              "      <th>DFA</th>\n",
              "      <th>spread1</th>\n",
              "      <th>spread2</th>\n",
              "      <th>D2</th>\n",
              "      <th>PPE</th>\n",
              "    </tr>\n",
              "  </thead>\n",
              "  <tbody>\n",
              "    <tr>\n",
              "      <th>0</th>\n",
              "      <td>phon_R01_S01_1</td>\n",
              "      <td>119.992</td>\n",
              "      <td>157.302</td>\n",
              "      <td>74.997</td>\n",
              "      <td>0.00784</td>\n",
              "      <td>0.00007</td>\n",
              "      <td>0.00370</td>\n",
              "      <td>0.00554</td>\n",
              "      <td>0.01109</td>\n",
              "      <td>0.04374</td>\n",
              "      <td>...</td>\n",
              "      <td>0.06545</td>\n",
              "      <td>0.02211</td>\n",
              "      <td>21.033</td>\n",
              "      <td>1</td>\n",
              "      <td>0.414783</td>\n",
              "      <td>0.815285</td>\n",
              "      <td>-4.813031</td>\n",
              "      <td>0.266482</td>\n",
              "      <td>2.301442</td>\n",
              "      <td>0.284654</td>\n",
              "    </tr>\n",
              "    <tr>\n",
              "      <th>1</th>\n",
              "      <td>phon_R01_S01_2</td>\n",
              "      <td>122.400</td>\n",
              "      <td>148.650</td>\n",
              "      <td>113.819</td>\n",
              "      <td>0.00968</td>\n",
              "      <td>0.00008</td>\n",
              "      <td>0.00465</td>\n",
              "      <td>0.00696</td>\n",
              "      <td>0.01394</td>\n",
              "      <td>0.06134</td>\n",
              "      <td>...</td>\n",
              "      <td>0.09403</td>\n",
              "      <td>0.01929</td>\n",
              "      <td>19.085</td>\n",
              "      <td>1</td>\n",
              "      <td>0.458359</td>\n",
              "      <td>0.819521</td>\n",
              "      <td>-4.075192</td>\n",
              "      <td>0.335590</td>\n",
              "      <td>2.486855</td>\n",
              "      <td>0.368674</td>\n",
              "    </tr>\n",
              "    <tr>\n",
              "      <th>2</th>\n",
              "      <td>phon_R01_S01_3</td>\n",
              "      <td>116.682</td>\n",
              "      <td>131.111</td>\n",
              "      <td>111.555</td>\n",
              "      <td>0.01050</td>\n",
              "      <td>0.00009</td>\n",
              "      <td>0.00544</td>\n",
              "      <td>0.00781</td>\n",
              "      <td>0.01633</td>\n",
              "      <td>0.05233</td>\n",
              "      <td>...</td>\n",
              "      <td>0.08270</td>\n",
              "      <td>0.01309</td>\n",
              "      <td>20.651</td>\n",
              "      <td>1</td>\n",
              "      <td>0.429895</td>\n",
              "      <td>0.825288</td>\n",
              "      <td>-4.443179</td>\n",
              "      <td>0.311173</td>\n",
              "      <td>2.342259</td>\n",
              "      <td>0.332634</td>\n",
              "    </tr>\n",
              "    <tr>\n",
              "      <th>3</th>\n",
              "      <td>phon_R01_S01_4</td>\n",
              "      <td>116.676</td>\n",
              "      <td>137.871</td>\n",
              "      <td>111.366</td>\n",
              "      <td>0.00997</td>\n",
              "      <td>0.00009</td>\n",
              "      <td>0.00502</td>\n",
              "      <td>0.00698</td>\n",
              "      <td>0.01505</td>\n",
              "      <td>0.05492</td>\n",
              "      <td>...</td>\n",
              "      <td>0.08771</td>\n",
              "      <td>0.01353</td>\n",
              "      <td>20.644</td>\n",
              "      <td>1</td>\n",
              "      <td>0.434969</td>\n",
              "      <td>0.819235</td>\n",
              "      <td>-4.117501</td>\n",
              "      <td>0.334147</td>\n",
              "      <td>2.405554</td>\n",
              "      <td>0.368975</td>\n",
              "    </tr>\n",
              "    <tr>\n",
              "      <th>4</th>\n",
              "      <td>phon_R01_S01_5</td>\n",
              "      <td>116.014</td>\n",
              "      <td>141.781</td>\n",
              "      <td>110.655</td>\n",
              "      <td>0.01284</td>\n",
              "      <td>0.00011</td>\n",
              "      <td>0.00655</td>\n",
              "      <td>0.00908</td>\n",
              "      <td>0.01966</td>\n",
              "      <td>0.06425</td>\n",
              "      <td>...</td>\n",
              "      <td>0.10470</td>\n",
              "      <td>0.01767</td>\n",
              "      <td>19.649</td>\n",
              "      <td>1</td>\n",
              "      <td>0.417356</td>\n",
              "      <td>0.823484</td>\n",
              "      <td>-3.747787</td>\n",
              "      <td>0.234513</td>\n",
              "      <td>2.332180</td>\n",
              "      <td>0.410335</td>\n",
              "    </tr>\n",
              "  </tbody>\n",
              "</table>\n",
              "<p>5 rows × 24 columns</p>\n",
              "</div>\n",
              "      <button class=\"colab-df-convert\" onclick=\"convertToInteractive('df-31f09222-e345-45e4-85ec-87258767f9b6')\"\n",
              "              title=\"Convert this dataframe to an interactive table.\"\n",
              "              style=\"display:none;\">\n",
              "        \n",
              "  <svg xmlns=\"http://www.w3.org/2000/svg\" height=\"24px\"viewBox=\"0 0 24 24\"\n",
              "       width=\"24px\">\n",
              "    <path d=\"M0 0h24v24H0V0z\" fill=\"none\"/>\n",
              "    <path d=\"M18.56 5.44l.94 2.06.94-2.06 2.06-.94-2.06-.94-.94-2.06-.94 2.06-2.06.94zm-11 1L8.5 8.5l.94-2.06 2.06-.94-2.06-.94L8.5 2.5l-.94 2.06-2.06.94zm10 10l.94 2.06.94-2.06 2.06-.94-2.06-.94-.94-2.06-.94 2.06-2.06.94z\"/><path d=\"M17.41 7.96l-1.37-1.37c-.4-.4-.92-.59-1.43-.59-.52 0-1.04.2-1.43.59L10.3 9.45l-7.72 7.72c-.78.78-.78 2.05 0 2.83L4 21.41c.39.39.9.59 1.41.59.51 0 1.02-.2 1.41-.59l7.78-7.78 2.81-2.81c.8-.78.8-2.07 0-2.86zM5.41 20L4 18.59l7.72-7.72 1.47 1.35L5.41 20z\"/>\n",
              "  </svg>\n",
              "      </button>\n",
              "      \n",
              "  <style>\n",
              "    .colab-df-container {\n",
              "      display:flex;\n",
              "      flex-wrap:wrap;\n",
              "      gap: 12px;\n",
              "    }\n",
              "\n",
              "    .colab-df-convert {\n",
              "      background-color: #E8F0FE;\n",
              "      border: none;\n",
              "      border-radius: 50%;\n",
              "      cursor: pointer;\n",
              "      display: none;\n",
              "      fill: #1967D2;\n",
              "      height: 32px;\n",
              "      padding: 0 0 0 0;\n",
              "      width: 32px;\n",
              "    }\n",
              "\n",
              "    .colab-df-convert:hover {\n",
              "      background-color: #E2EBFA;\n",
              "      box-shadow: 0px 1px 2px rgba(60, 64, 67, 0.3), 0px 1px 3px 1px rgba(60, 64, 67, 0.15);\n",
              "      fill: #174EA6;\n",
              "    }\n",
              "\n",
              "    [theme=dark] .colab-df-convert {\n",
              "      background-color: #3B4455;\n",
              "      fill: #D2E3FC;\n",
              "    }\n",
              "\n",
              "    [theme=dark] .colab-df-convert:hover {\n",
              "      background-color: #434B5C;\n",
              "      box-shadow: 0px 1px 3px 1px rgba(0, 0, 0, 0.15);\n",
              "      filter: drop-shadow(0px 1px 2px rgba(0, 0, 0, 0.3));\n",
              "      fill: #FFFFFF;\n",
              "    }\n",
              "  </style>\n",
              "\n",
              "      <script>\n",
              "        const buttonEl =\n",
              "          document.querySelector('#df-31f09222-e345-45e4-85ec-87258767f9b6 button.colab-df-convert');\n",
              "        buttonEl.style.display =\n",
              "          google.colab.kernel.accessAllowed ? 'block' : 'none';\n",
              "\n",
              "        async function convertToInteractive(key) {\n",
              "          const element = document.querySelector('#df-31f09222-e345-45e4-85ec-87258767f9b6');\n",
              "          const dataTable =\n",
              "            await google.colab.kernel.invokeFunction('convertToInteractive',\n",
              "                                                     [key], {});\n",
              "          if (!dataTable) return;\n",
              "\n",
              "          const docLinkHtml = 'Like what you see? Visit the ' +\n",
              "            '<a target=\"_blank\" href=https://colab.research.google.com/notebooks/data_table.ipynb>data table notebook</a>'\n",
              "            + ' to learn more about interactive tables.';\n",
              "          element.innerHTML = '';\n",
              "          dataTable['output_type'] = 'display_data';\n",
              "          await google.colab.output.renderOutput(dataTable, element);\n",
              "          const docLink = document.createElement('div');\n",
              "          docLink.innerHTML = docLinkHtml;\n",
              "          element.appendChild(docLink);\n",
              "        }\n",
              "      </script>\n",
              "    </div>\n",
              "  </div>\n",
              "  "
            ]
          },
          "metadata": {},
          "execution_count": 9
        }
      ],
      "source": [
        "import pandas as pd\n",
        "df = pd.read_csv('https://archive.ics.uci.edu/ml/machine-learning-databases/parkinsons/parkinsons.data')\n",
        "df.head()"
      ]
    },
    {
      "cell_type": "code",
      "source": [
        "df.columns"
      ],
      "metadata": {
        "colab": {
          "base_uri": "https://localhost:8080/"
        },
        "id": "OxVY93dI1mE2",
        "outputId": "1393a69f-3aae-4ae1-a01d-9940b70b007d"
      },
      "execution_count": null,
      "outputs": [
        {
          "output_type": "execute_result",
          "data": {
            "text/plain": [
              "Index(['name', 'MDVP:Fo(Hz)', 'MDVP:Fhi(Hz)', 'MDVP:Flo(Hz)', 'MDVP:Jitter(%)',\n",
              "       'MDVP:Jitter(Abs)', 'MDVP:RAP', 'MDVP:PPQ', 'Jitter:DDP',\n",
              "       'MDVP:Shimmer', 'MDVP:Shimmer(dB)', 'Shimmer:APQ3', 'Shimmer:APQ5',\n",
              "       'MDVP:APQ', 'Shimmer:DDA', 'NHR', 'HNR', 'status', 'RPDE', 'DFA',\n",
              "       'spread1', 'spread2', 'D2', 'PPE'],\n",
              "      dtype='object')"
            ]
          },
          "metadata": {},
          "execution_count": 10
        }
      ]
    },
    {
      "cell_type": "code",
      "execution_count": null,
      "metadata": {
        "colab": {
          "base_uri": "https://localhost:8080/"
        },
        "id": "CFCs2kcQzA9_",
        "outputId": "52cc7567-3091-4bdd-efbc-0d131e9cbfb3"
      },
      "outputs": [
        {
          "output_type": "stream",
          "name": "stdout",
          "text": [
            "Number of Features In Dataset : 24\n",
            "Number of Instances In Dataset :  195\n"
          ]
        }
      ],
      "source": [
        "print('Number of Features In Dataset :', df.shape[1])\n",
        "print('Number of Instances In Dataset : ', df.shape[0])"
      ]
    },
    {
      "cell_type": "markdown",
      "metadata": {
        "id": "AvZGcx0n1jb6"
      },
      "source": [
        "#Cleaning dataset"
      ]
    },
    {
      "cell_type": "markdown",
      "metadata": {
        "id": "tV1MevwHy2qa"
      },
      "source": [
        "We can see that the loaded dataset has 24 features and 195 records. Now we need to clean the dataset and remove the redundant features. The feature \"Name\" is redundant feature and thus can be removed."
      ]
    },
    {
      "cell_type": "code",
      "execution_count": null,
      "metadata": {
        "colab": {
          "base_uri": "https://localhost:8080/",
          "height": 300
        },
        "id": "E45HSacFzXsb",
        "outputId": "fae43514-5bfd-408f-a14e-ddff33b8c7ea"
      },
      "outputs": [
        {
          "output_type": "execute_result",
          "data": {
            "text/plain": [
              "   MDVP:Fo(Hz)  MDVP:Fhi(Hz)  MDVP:Flo(Hz)  MDVP:Jitter(%)  MDVP:Jitter(Abs)  \\\n",
              "0      119.992       157.302        74.997         0.00784           0.00007   \n",
              "1      122.400       148.650       113.819         0.00968           0.00008   \n",
              "2      116.682       131.111       111.555         0.01050           0.00009   \n",
              "3      116.676       137.871       111.366         0.00997           0.00009   \n",
              "4      116.014       141.781       110.655         0.01284           0.00011   \n",
              "\n",
              "   MDVP:RAP  MDVP:PPQ  Jitter:DDP  MDVP:Shimmer  MDVP:Shimmer(dB)  ...  \\\n",
              "0   0.00370   0.00554     0.01109       0.04374             0.426  ...   \n",
              "1   0.00465   0.00696     0.01394       0.06134             0.626  ...   \n",
              "2   0.00544   0.00781     0.01633       0.05233             0.482  ...   \n",
              "3   0.00502   0.00698     0.01505       0.05492             0.517  ...   \n",
              "4   0.00655   0.00908     0.01966       0.06425             0.584  ...   \n",
              "\n",
              "   Shimmer:DDA      NHR     HNR  status      RPDE       DFA   spread1  \\\n",
              "0      0.06545  0.02211  21.033       1  0.414783  0.815285 -4.813031   \n",
              "1      0.09403  0.01929  19.085       1  0.458359  0.819521 -4.075192   \n",
              "2      0.08270  0.01309  20.651       1  0.429895  0.825288 -4.443179   \n",
              "3      0.08771  0.01353  20.644       1  0.434969  0.819235 -4.117501   \n",
              "4      0.10470  0.01767  19.649       1  0.417356  0.823484 -3.747787   \n",
              "\n",
              "    spread2        D2       PPE  \n",
              "0  0.266482  2.301442  0.284654  \n",
              "1  0.335590  2.486855  0.368674  \n",
              "2  0.311173  2.342259  0.332634  \n",
              "3  0.334147  2.405554  0.368975  \n",
              "4  0.234513  2.332180  0.410335  \n",
              "\n",
              "[5 rows x 23 columns]"
            ],
            "text/html": [
              "\n",
              "  <div id=\"df-d473844b-e6fd-42a3-be90-13fc5cb2fd02\">\n",
              "    <div class=\"colab-df-container\">\n",
              "      <div>\n",
              "<style scoped>\n",
              "    .dataframe tbody tr th:only-of-type {\n",
              "        vertical-align: middle;\n",
              "    }\n",
              "\n",
              "    .dataframe tbody tr th {\n",
              "        vertical-align: top;\n",
              "    }\n",
              "\n",
              "    .dataframe thead th {\n",
              "        text-align: right;\n",
              "    }\n",
              "</style>\n",
              "<table border=\"1\" class=\"dataframe\">\n",
              "  <thead>\n",
              "    <tr style=\"text-align: right;\">\n",
              "      <th></th>\n",
              "      <th>MDVP:Fo(Hz)</th>\n",
              "      <th>MDVP:Fhi(Hz)</th>\n",
              "      <th>MDVP:Flo(Hz)</th>\n",
              "      <th>MDVP:Jitter(%)</th>\n",
              "      <th>MDVP:Jitter(Abs)</th>\n",
              "      <th>MDVP:RAP</th>\n",
              "      <th>MDVP:PPQ</th>\n",
              "      <th>Jitter:DDP</th>\n",
              "      <th>MDVP:Shimmer</th>\n",
              "      <th>MDVP:Shimmer(dB)</th>\n",
              "      <th>...</th>\n",
              "      <th>Shimmer:DDA</th>\n",
              "      <th>NHR</th>\n",
              "      <th>HNR</th>\n",
              "      <th>status</th>\n",
              "      <th>RPDE</th>\n",
              "      <th>DFA</th>\n",
              "      <th>spread1</th>\n",
              "      <th>spread2</th>\n",
              "      <th>D2</th>\n",
              "      <th>PPE</th>\n",
              "    </tr>\n",
              "  </thead>\n",
              "  <tbody>\n",
              "    <tr>\n",
              "      <th>0</th>\n",
              "      <td>119.992</td>\n",
              "      <td>157.302</td>\n",
              "      <td>74.997</td>\n",
              "      <td>0.00784</td>\n",
              "      <td>0.00007</td>\n",
              "      <td>0.00370</td>\n",
              "      <td>0.00554</td>\n",
              "      <td>0.01109</td>\n",
              "      <td>0.04374</td>\n",
              "      <td>0.426</td>\n",
              "      <td>...</td>\n",
              "      <td>0.06545</td>\n",
              "      <td>0.02211</td>\n",
              "      <td>21.033</td>\n",
              "      <td>1</td>\n",
              "      <td>0.414783</td>\n",
              "      <td>0.815285</td>\n",
              "      <td>-4.813031</td>\n",
              "      <td>0.266482</td>\n",
              "      <td>2.301442</td>\n",
              "      <td>0.284654</td>\n",
              "    </tr>\n",
              "    <tr>\n",
              "      <th>1</th>\n",
              "      <td>122.400</td>\n",
              "      <td>148.650</td>\n",
              "      <td>113.819</td>\n",
              "      <td>0.00968</td>\n",
              "      <td>0.00008</td>\n",
              "      <td>0.00465</td>\n",
              "      <td>0.00696</td>\n",
              "      <td>0.01394</td>\n",
              "      <td>0.06134</td>\n",
              "      <td>0.626</td>\n",
              "      <td>...</td>\n",
              "      <td>0.09403</td>\n",
              "      <td>0.01929</td>\n",
              "      <td>19.085</td>\n",
              "      <td>1</td>\n",
              "      <td>0.458359</td>\n",
              "      <td>0.819521</td>\n",
              "      <td>-4.075192</td>\n",
              "      <td>0.335590</td>\n",
              "      <td>2.486855</td>\n",
              "      <td>0.368674</td>\n",
              "    </tr>\n",
              "    <tr>\n",
              "      <th>2</th>\n",
              "      <td>116.682</td>\n",
              "      <td>131.111</td>\n",
              "      <td>111.555</td>\n",
              "      <td>0.01050</td>\n",
              "      <td>0.00009</td>\n",
              "      <td>0.00544</td>\n",
              "      <td>0.00781</td>\n",
              "      <td>0.01633</td>\n",
              "      <td>0.05233</td>\n",
              "      <td>0.482</td>\n",
              "      <td>...</td>\n",
              "      <td>0.08270</td>\n",
              "      <td>0.01309</td>\n",
              "      <td>20.651</td>\n",
              "      <td>1</td>\n",
              "      <td>0.429895</td>\n",
              "      <td>0.825288</td>\n",
              "      <td>-4.443179</td>\n",
              "      <td>0.311173</td>\n",
              "      <td>2.342259</td>\n",
              "      <td>0.332634</td>\n",
              "    </tr>\n",
              "    <tr>\n",
              "      <th>3</th>\n",
              "      <td>116.676</td>\n",
              "      <td>137.871</td>\n",
              "      <td>111.366</td>\n",
              "      <td>0.00997</td>\n",
              "      <td>0.00009</td>\n",
              "      <td>0.00502</td>\n",
              "      <td>0.00698</td>\n",
              "      <td>0.01505</td>\n",
              "      <td>0.05492</td>\n",
              "      <td>0.517</td>\n",
              "      <td>...</td>\n",
              "      <td>0.08771</td>\n",
              "      <td>0.01353</td>\n",
              "      <td>20.644</td>\n",
              "      <td>1</td>\n",
              "      <td>0.434969</td>\n",
              "      <td>0.819235</td>\n",
              "      <td>-4.117501</td>\n",
              "      <td>0.334147</td>\n",
              "      <td>2.405554</td>\n",
              "      <td>0.368975</td>\n",
              "    </tr>\n",
              "    <tr>\n",
              "      <th>4</th>\n",
              "      <td>116.014</td>\n",
              "      <td>141.781</td>\n",
              "      <td>110.655</td>\n",
              "      <td>0.01284</td>\n",
              "      <td>0.00011</td>\n",
              "      <td>0.00655</td>\n",
              "      <td>0.00908</td>\n",
              "      <td>0.01966</td>\n",
              "      <td>0.06425</td>\n",
              "      <td>0.584</td>\n",
              "      <td>...</td>\n",
              "      <td>0.10470</td>\n",
              "      <td>0.01767</td>\n",
              "      <td>19.649</td>\n",
              "      <td>1</td>\n",
              "      <td>0.417356</td>\n",
              "      <td>0.823484</td>\n",
              "      <td>-3.747787</td>\n",
              "      <td>0.234513</td>\n",
              "      <td>2.332180</td>\n",
              "      <td>0.410335</td>\n",
              "    </tr>\n",
              "  </tbody>\n",
              "</table>\n",
              "<p>5 rows × 23 columns</p>\n",
              "</div>\n",
              "      <button class=\"colab-df-convert\" onclick=\"convertToInteractive('df-d473844b-e6fd-42a3-be90-13fc5cb2fd02')\"\n",
              "              title=\"Convert this dataframe to an interactive table.\"\n",
              "              style=\"display:none;\">\n",
              "        \n",
              "  <svg xmlns=\"http://www.w3.org/2000/svg\" height=\"24px\"viewBox=\"0 0 24 24\"\n",
              "       width=\"24px\">\n",
              "    <path d=\"M0 0h24v24H0V0z\" fill=\"none\"/>\n",
              "    <path d=\"M18.56 5.44l.94 2.06.94-2.06 2.06-.94-2.06-.94-.94-2.06-.94 2.06-2.06.94zm-11 1L8.5 8.5l.94-2.06 2.06-.94-2.06-.94L8.5 2.5l-.94 2.06-2.06.94zm10 10l.94 2.06.94-2.06 2.06-.94-2.06-.94-.94-2.06-.94 2.06-2.06.94z\"/><path d=\"M17.41 7.96l-1.37-1.37c-.4-.4-.92-.59-1.43-.59-.52 0-1.04.2-1.43.59L10.3 9.45l-7.72 7.72c-.78.78-.78 2.05 0 2.83L4 21.41c.39.39.9.59 1.41.59.51 0 1.02-.2 1.41-.59l7.78-7.78 2.81-2.81c.8-.78.8-2.07 0-2.86zM5.41 20L4 18.59l7.72-7.72 1.47 1.35L5.41 20z\"/>\n",
              "  </svg>\n",
              "      </button>\n",
              "      \n",
              "  <style>\n",
              "    .colab-df-container {\n",
              "      display:flex;\n",
              "      flex-wrap:wrap;\n",
              "      gap: 12px;\n",
              "    }\n",
              "\n",
              "    .colab-df-convert {\n",
              "      background-color: #E8F0FE;\n",
              "      border: none;\n",
              "      border-radius: 50%;\n",
              "      cursor: pointer;\n",
              "      display: none;\n",
              "      fill: #1967D2;\n",
              "      height: 32px;\n",
              "      padding: 0 0 0 0;\n",
              "      width: 32px;\n",
              "    }\n",
              "\n",
              "    .colab-df-convert:hover {\n",
              "      background-color: #E2EBFA;\n",
              "      box-shadow: 0px 1px 2px rgba(60, 64, 67, 0.3), 0px 1px 3px 1px rgba(60, 64, 67, 0.15);\n",
              "      fill: #174EA6;\n",
              "    }\n",
              "\n",
              "    [theme=dark] .colab-df-convert {\n",
              "      background-color: #3B4455;\n",
              "      fill: #D2E3FC;\n",
              "    }\n",
              "\n",
              "    [theme=dark] .colab-df-convert:hover {\n",
              "      background-color: #434B5C;\n",
              "      box-shadow: 0px 1px 3px 1px rgba(0, 0, 0, 0.15);\n",
              "      filter: drop-shadow(0px 1px 2px rgba(0, 0, 0, 0.3));\n",
              "      fill: #FFFFFF;\n",
              "    }\n",
              "  </style>\n",
              "\n",
              "      <script>\n",
              "        const buttonEl =\n",
              "          document.querySelector('#df-d473844b-e6fd-42a3-be90-13fc5cb2fd02 button.colab-df-convert');\n",
              "        buttonEl.style.display =\n",
              "          google.colab.kernel.accessAllowed ? 'block' : 'none';\n",
              "\n",
              "        async function convertToInteractive(key) {\n",
              "          const element = document.querySelector('#df-d473844b-e6fd-42a3-be90-13fc5cb2fd02');\n",
              "          const dataTable =\n",
              "            await google.colab.kernel.invokeFunction('convertToInteractive',\n",
              "                                                     [key], {});\n",
              "          if (!dataTable) return;\n",
              "\n",
              "          const docLinkHtml = 'Like what you see? Visit the ' +\n",
              "            '<a target=\"_blank\" href=https://colab.research.google.com/notebooks/data_table.ipynb>data table notebook</a>'\n",
              "            + ' to learn more about interactive tables.';\n",
              "          element.innerHTML = '';\n",
              "          dataTable['output_type'] = 'display_data';\n",
              "          await google.colab.output.renderOutput(dataTable, element);\n",
              "          const docLink = document.createElement('div');\n",
              "          docLink.innerHTML = docLinkHtml;\n",
              "          element.appendChild(docLink);\n",
              "        }\n",
              "      </script>\n",
              "    </div>\n",
              "  </div>\n",
              "  "
            ]
          },
          "metadata": {},
          "execution_count": 12
        }
      ],
      "source": [
        "# Dropping The Name Column\n",
        "df.drop(['name'], axis=1, inplace=True)\n",
        "df.head()"
      ]
    },
    {
      "cell_type": "code",
      "execution_count": null,
      "metadata": {
        "colab": {
          "base_uri": "https://localhost:8080/"
        },
        "id": "zT0jyru5zxBL",
        "outputId": "435bc3ca-966b-41bf-fa1b-d0e11e4ad812"
      },
      "outputs": [
        {
          "output_type": "stream",
          "name": "stdout",
          "text": [
            "0      1\n",
            "1      1\n",
            "2      1\n",
            "3      1\n",
            "4      1\n",
            "      ..\n",
            "190    0\n",
            "191    0\n",
            "192    0\n",
            "193    0\n",
            "194    0\n",
            "Name: status, Length: 195, dtype: int64\n"
          ]
        }
      ],
      "source": [
        "print(df.status)"
      ]
    },
    {
      "cell_type": "markdown",
      "metadata": {
        "id": "52bc1ENk0M4a"
      },
      "source": [
        "The status feature just contains zeros and ones and does not require to be a signed int64. Thus we can reduce the space by changing it's type to uint8. "
      ]
    },
    {
      "cell_type": "code",
      "execution_count": null,
      "metadata": {
        "colab": {
          "base_uri": "https://localhost:8080/"
        },
        "id": "fOtdPgMf0gK4",
        "outputId": "8d22c077-0288-4703-b225-de64f6f1b9b4"
      },
      "outputs": [
        {
          "output_type": "stream",
          "name": "stdout",
          "text": [
            "Before changing type: \n",
            "<class 'pandas.core.frame.DataFrame'>\n",
            "RangeIndex: 195 entries, 0 to 194\n",
            "Data columns (total 23 columns):\n",
            " #   Column            Non-Null Count  Dtype  \n",
            "---  ------            --------------  -----  \n",
            " 0   MDVP:Fo(Hz)       195 non-null    float64\n",
            " 1   MDVP:Fhi(Hz)      195 non-null    float64\n",
            " 2   MDVP:Flo(Hz)      195 non-null    float64\n",
            " 3   MDVP:Jitter(%)    195 non-null    float64\n",
            " 4   MDVP:Jitter(Abs)  195 non-null    float64\n",
            " 5   MDVP:RAP          195 non-null    float64\n",
            " 6   MDVP:PPQ          195 non-null    float64\n",
            " 7   Jitter:DDP        195 non-null    float64\n",
            " 8   MDVP:Shimmer      195 non-null    float64\n",
            " 9   MDVP:Shimmer(dB)  195 non-null    float64\n",
            " 10  Shimmer:APQ3      195 non-null    float64\n",
            " 11  Shimmer:APQ5      195 non-null    float64\n",
            " 12  MDVP:APQ          195 non-null    float64\n",
            " 13  Shimmer:DDA       195 non-null    float64\n",
            " 14  NHR               195 non-null    float64\n",
            " 15  HNR               195 non-null    float64\n",
            " 16  status            195 non-null    int64  \n",
            " 17  RPDE              195 non-null    float64\n",
            " 18  DFA               195 non-null    float64\n",
            " 19  spread1           195 non-null    float64\n",
            " 20  spread2           195 non-null    float64\n",
            " 21  D2                195 non-null    float64\n",
            " 22  PPE               195 non-null    float64\n",
            "dtypes: float64(22), int64(1)\n",
            "memory usage: 35.2 KB\n",
            "After changing type: \n",
            "<class 'pandas.core.frame.DataFrame'>\n",
            "RangeIndex: 195 entries, 0 to 194\n",
            "Data columns (total 23 columns):\n",
            " #   Column            Non-Null Count  Dtype  \n",
            "---  ------            --------------  -----  \n",
            " 0   MDVP:Fo(Hz)       195 non-null    float64\n",
            " 1   MDVP:Fhi(Hz)      195 non-null    float64\n",
            " 2   MDVP:Flo(Hz)      195 non-null    float64\n",
            " 3   MDVP:Jitter(%)    195 non-null    float64\n",
            " 4   MDVP:Jitter(Abs)  195 non-null    float64\n",
            " 5   MDVP:RAP          195 non-null    float64\n",
            " 6   MDVP:PPQ          195 non-null    float64\n",
            " 7   Jitter:DDP        195 non-null    float64\n",
            " 8   MDVP:Shimmer      195 non-null    float64\n",
            " 9   MDVP:Shimmer(dB)  195 non-null    float64\n",
            " 10  Shimmer:APQ3      195 non-null    float64\n",
            " 11  Shimmer:APQ5      195 non-null    float64\n",
            " 12  MDVP:APQ          195 non-null    float64\n",
            " 13  Shimmer:DDA       195 non-null    float64\n",
            " 14  NHR               195 non-null    float64\n",
            " 15  HNR               195 non-null    float64\n",
            " 16  status            195 non-null    uint8  \n",
            " 17  RPDE              195 non-null    float64\n",
            " 18  DFA               195 non-null    float64\n",
            " 19  spread1           195 non-null    float64\n",
            " 20  spread2           195 non-null    float64\n",
            " 21  D2                195 non-null    float64\n",
            " 22  PPE               195 non-null    float64\n",
            "dtypes: float64(22), uint8(1)\n",
            "memory usage: 33.8 KB\n"
          ]
        }
      ],
      "source": [
        "print(\"Before changing type: \")\n",
        "df.info()\n",
        "df['status'] = df['status'].astype('uint8')\n",
        "print(\"After changing type: \")\n",
        "df.info()"
      ]
    },
    {
      "cell_type": "markdown",
      "metadata": {
        "id": "a_CkFdlfzr1p"
      },
      "source": [
        "Check if there are any duplicate records in the dataset thus reducing the redundancy and helping in creating somewhat unbiased model later."
      ]
    },
    {
      "cell_type": "code",
      "execution_count": null,
      "metadata": {
        "colab": {
          "base_uri": "https://localhost:8080/"
        },
        "id": "3vlA5MM31CgD",
        "outputId": "0584ea0c-0402-490b-df3d-f020ded52056"
      },
      "outputs": [
        {
          "output_type": "stream",
          "name": "stdout",
          "text": [
            "Number of Duplicated Rows : 0\n"
          ]
        },
        {
          "output_type": "execute_result",
          "data": {
            "text/plain": [
              "MDVP:Fo(Hz)         0\n",
              "MDVP:Fhi(Hz)        0\n",
              "MDVP:Flo(Hz)        0\n",
              "MDVP:Jitter(%)      0\n",
              "MDVP:Jitter(Abs)    0\n",
              "MDVP:RAP            0\n",
              "MDVP:PPQ            0\n",
              "Jitter:DDP          0\n",
              "MDVP:Shimmer        0\n",
              "MDVP:Shimmer(dB)    0\n",
              "Shimmer:APQ3        0\n",
              "Shimmer:APQ5        0\n",
              "MDVP:APQ            0\n",
              "Shimmer:DDA         0\n",
              "NHR                 0\n",
              "HNR                 0\n",
              "status              0\n",
              "RPDE                0\n",
              "DFA                 0\n",
              "spread1             0\n",
              "spread2             0\n",
              "D2                  0\n",
              "PPE                 0\n",
              "dtype: int64"
            ]
          },
          "metadata": {},
          "execution_count": 15
        }
      ],
      "source": [
        "# Checking For Duplicate Rows In Dataset\n",
        "print('Number of Duplicated Rows :',df.duplicated().sum())\n",
        "\n",
        "# Checking For Missing Values In Dataset\n",
        "df.isna().sum()"
      ]
    },
    {
      "cell_type": "markdown",
      "metadata": {
        "id": "e32qrgAJ1IXO"
      },
      "source": [
        "As we can see that there are no duplicate columns in the dataset. Thus, now moving on to creating a balanced dataset."
      ]
    },
    {
      "cell_type": "markdown",
      "metadata": {
        "id": "V6d8mNWN1Tr8"
      },
      "source": [
        "#Balancing the dataset"
      ]
    },
    {
      "cell_type": "markdown",
      "metadata": {
        "id": "5JgNQ5WQ1p-G"
      },
      "source": [
        "Let's check the count of records available for each value of the variable to be predicted i.e. for status = 0 and for status = 1."
      ]
    },
    {
      "cell_type": "code",
      "execution_count": null,
      "metadata": {
        "colab": {
          "base_uri": "https://localhost:8080/",
          "height": 423
        },
        "id": "S0epVGil145o",
        "outputId": "5550e8be-6289-44c6-c02c-472ffaa900ee"
      },
      "outputs": [
        {
          "output_type": "display_data",
          "data": {
            "text/plain": [
              "<Figure size 432x288 with 1 Axes>"
            ],
            "image/png": "[encoded data removed]"
          },
          "metadata": {
            "needs_background": "light"
          }
        },
        {
          "output_type": "stream",
          "name": "stdout",
          "text": [
            "\n",
            "Count of different status values: \n",
            "1    147\n",
            "0     48\n",
            "Name: status, dtype: int64\n"
          ]
        }
      ],
      "source": [
        "import matplotlib.pyplot as plt\n",
        "fig = plt.figure()\n",
        "ax = fig.add_axes([0,0,1,1])\n",
        "status = ['0', '1']\n",
        "count = [len(df.status) - sum(df.status), sum(df.status)]\n",
        "ax.bar(status, count)\n",
        "\n",
        "plt.show()\n",
        "print(\"\\nCount of different status values: \")\n",
        "print(df['status'].value_counts())"
      ]
    },
    {
      "cell_type": "markdown",
      "metadata": {
        "id": "CcbM_CoHUMTq"
      },
      "source": [
        "Split the features and target variables."
      ]
    },
    {
      "cell_type": "code",
      "execution_count": null,
      "metadata": {
        "colab": {
          "base_uri": "https://localhost:8080/"
        },
        "id": "b7JhldpgRUaT",
        "outputId": "1131ae88-b7c4-46e4-97a6-71d07dbfeba4"
      },
      "outputs": [
        {
          "output_type": "stream",
          "name": "stdout",
          "text": [
            "Feature (X) Shape Before Balancing : (195, 22)\n",
            "Target (y) Shape Before Balancing : (195,)\n"
          ]
        }
      ],
      "source": [
        "# Extracting Features Into Features & Target\n",
        "X = df.drop(['status'], axis=1)\n",
        "y = df['status']\n",
        "\n",
        "print('Feature (X) Shape Before Balancing :', X.shape)\n",
        "print('Target (y) Shape Before Balancing :', y.shape)"
      ]
    },
    {
      "cell_type": "markdown",
      "metadata": {
        "id": "VYr_JleDUULT"
      },
      "source": [
        "Balance the number of the rows for each type of the target variable values using SMOTE."
      ]
    },
    {
      "cell_type": "code",
      "execution_count": null,
      "metadata": {
        "colab": {
          "base_uri": "https://localhost:8080/"
        },
        "id": "jS8PmjO_RtQ5",
        "outputId": "1803d346-a0b3-4a8e-a3de-b9956c451fbf"
      },
      "outputs": [
        {
          "output_type": "stream",
          "name": "stdout",
          "text": [
            "Feature (X) Shape After Balancing : (294, 22)\n",
            "Target (y) Shape After Balancing : (294,)\n"
          ]
        }
      ],
      "source": [
        "\n",
        "from imblearn.over_sampling import SMOTE\n",
        "\n",
        "# Intialising SMOTE Object\n",
        "sm = SMOTE(random_state=300)\n",
        "\n",
        "# Resampling Data\n",
        "X, y = sm.fit_resample(X, y)\n",
        "\n",
        "print('Feature (X) Shape After Balancing :', X.shape)\n",
        "print('Target (y) Shape After Balancing :', y.shape)"
      ]
    },
    {
      "cell_type": "markdown",
      "metadata": {
        "id": "GH0eSVGGVOQR"
      },
      "source": [
        "Normalise all the values of the feature columns and the target variable (the target variable is already normalized i.e. all values are between -1 and 1)"
      ]
    },
    {
      "cell_type": "code",
      "execution_count": null,
      "metadata": {
        "id": "_22ZmoHXTDk8"
      },
      "outputs": [],
      "source": [
        "from sklearn.preprocessing import MinMaxScaler\n",
        "\n",
        "# Scaling features between -1 and 1  for normalization \n",
        "scaler = MinMaxScaler((-1,1))\n",
        "\n",
        "# define X_features , Y_labels\n",
        "X_features = scaler.fit_transform(X)\n",
        "Y_labels = y\n"
      ]
    },
    {
      "cell_type": "markdown",
      "metadata": {
        "id": "T3Ekp8cIVeDe"
      },
      "source": [
        "# Split the dataset and building a model"
      ]
    },
    {
      "cell_type": "markdown",
      "metadata": {
        "id": "2hTNXGcUVgr8"
      },
      "source": [
        "Split the dataset into 20% test size and 80% train size. And then build Logistic regression model.\n",
        "\n",
        "Here we can use model.predict to predict the target variable. But it has a threshold of 0.5 probability. We can even use model.predict_proba which returns the probability and we can set threshold to what we want."
      ]
    },
    {
      "cell_type": "code",
      "execution_count": null,
      "metadata": {
        "id": "uZI_5l_LxrIO"
      },
      "outputs": [],
      "source": [
        "from sklearn.model_selection import train_test_split\n",
        "\n",
        "# Split training and test set\n",
        "X_train,X_test,y_train,y_test = train_test_split(X_features,Y_labels, test_size=0.2)"
      ]
    },
    {
      "cell_type": "markdown",
      "metadata": {
        "id": "YR5zvQq7VpHe"
      },
      "source": [
        "# Logistic Regression"
      ]
    },
    {
      "cell_type": "code",
      "execution_count": null,
      "metadata": {
        "colab": {
          "base_uri": "https://localhost:8080/"
        },
        "id": "rvfyTLPnVfC8",
        "outputId": "b34f9769-b9ba-4868-f6f9-dbe1168975b6"
      },
      "outputs": [
        {
          "output_type": "stream",
          "name": "stdout",
          "text": [
            "0.7941176470588235\n",
            "1.0\n"
          ]
        }
      ],
      "source": [
        "from sklearn.metrics import precision_score\n",
        "model = LogisticRegression()\n",
        "model.fit(X_train, y_train)\n",
        "\n",
        "y_pred = model.predict(X_test)\n",
        "print(precision_score(y_test, y_pred))\n",
        "\n",
        "y_pred1 = model.predict_proba(X_test)[:,1] > 0.75\n",
        "print(precision_score(y_test,y_pred1))"
      ]
    },
    {
      "cell_type": "markdown",
      "metadata": {
        "id": "Uap5FVFCzyNM"
      },
      "source": [
        "We can find the area under the curve (AUC) using the function roc_auc_score. The greater the AUC the better the model."
      ]
    },
    {
      "cell_type": "code",
      "execution_count": null,
      "metadata": {
        "colab": {
          "base_uri": "https://localhost:8080/",
          "height": 300
        },
        "id": "eD3M3g_HxuiP",
        "outputId": "a9e7d425-bd37-41e2-dcb2-9f40d6953cbf"
      },
      "outputs": [
        {
          "output_type": "stream",
          "name": "stdout",
          "text": [
            "AUC score: 0.9114219114219114\n"
          ]
        },
        {
          "output_type": "display_data",
          "data": {
            "text/plain": [
              "<Figure size 432x288 with 1 Axes>"
            ],
            "image/png": "[encoded data removed]"
          },
          "metadata": {
            "needs_background": "light"
          }
        }
      ],
      "source": [
        "from sklearn.metrics import roc_auc_score\n",
        "from sklearn.metrics import roc_curve\n",
        "y_pred_proba = model.predict_proba(X_test)\n",
        "fpr, tpr, thresholds = roc_curve(y_test, y_pred_proba[:,1])\n",
        "print(\"AUC score:\", roc_auc_score(y_test, y_pred_proba[:, 1]))\n",
        "\n",
        "plt.plot(fpr, tpr)\n",
        "plt.plot([0, 1], [0, 1], linestyle='--')\n",
        "plt.xlim([0.0, 1.0])\n",
        "plt.ylim([0.0, 1.0])\n",
        "plt.xlabel('1 - specificity')\n",
        "plt.ylabel('sensitivity')\n",
        "plt.show()"
      ]
    },
    {
      "cell_type": "markdown",
      "metadata": {
        "id": "lQbeeKll0Qgt"
      },
      "source": [
        "Instead of just splitting the dataset into 80-20 split we can even use K fold validation in which we split the dataset into n splits which is further split into 80-20 splits. We can then build a model on each split and check the score of each n models."
      ]
    },
    {
      "cell_type": "code",
      "execution_count": null,
      "metadata": {
        "colab": {
          "base_uri": "https://localhost:8080/",
          "height": 1000
        },
        "id": "1r4Cg2LOVhMt",
        "outputId": "b24e3df1-98f2-43aa-9647-5fb417cf8c95"
      },
      "outputs": [
        {
          "output_type": "stream",
          "name": "stdout",
          "text": [
            "Accuracy : 0.8028638223261252\n",
            "Precision: 0.8253478609675554\n",
            "Recall   : 0.7899902248289346\n",
            "Accuracy : 0.8006874378280033\n",
            "\n",
            "AUC score: 0.9125874125874127\n"
          ]
        },
        {
          "output_type": "display_data",
          "data": {
            "text/plain": [
              "<Figure size 432x288 with 1 Axes>"
            ],
            "image/png": "[encoded data removed]"
          },
          "metadata": {
            "needs_background": "light"
          }
        },
        {
          "output_type": "stream",
          "name": "stdout",
          "text": [
            "AUC score: 0.9195804195804196\n"
          ]
        },
        {
          "output_type": "display_data",
          "data": {
            "text/plain": [
              "<Figure size 432x288 with 1 Axes>"
            ],
            "image/png": "[encoded data removed]"
          },
          "metadata": {
            "needs_background": "light"
          }
        },
        {
          "output_type": "stream",
          "name": "stdout",
          "text": [
            "AUC score: 0.914918414918415\n"
          ]
        },
        {
          "output_type": "display_data",
          "data": {
            "text/plain": [
              "<Figure size 432x288 with 1 Axes>"
            ],
            "image/png": "[encoded data removed]"
          },
          "metadata": {
            "needs_background": "light"
          }
        },
        {
          "output_type": "stream",
          "name": "stdout",
          "text": [
            "AUC score: 0.9195804195804196\n"
          ]
        },
        {
          "output_type": "display_data",
          "data": {
            "text/plain": [
              "<Figure size 432x288 with 1 Axes>"
            ],
            "image/png": "[encoded data removed]"
          },
          "metadata": {
            "needs_background": "light"
          }
        },
        {
          "output_type": "stream",
          "name": "stdout",
          "text": [
            "AUC score: 0.9207459207459208\n"
          ]
        },
        {
          "output_type": "display_data",
          "data": {
            "text/plain": [
              "<Figure size 432x288 with 1 Axes>"
            ],
            "image/png": "[encoded data removed]"
          },
          "metadata": {
            "needs_background": "light"
          }
        }
      ],
      "source": [
        "from sklearn.model_selection import KFold\n",
        "import numpy as  np\n",
        "from sklearn.metrics import roc_auc_score\n",
        "from sklearn.linear_model import LogisticRegression\n",
        "from sklearn.metrics import accuracy_score, precision_score, recall_score, f1_score\n",
        "\n",
        "def score_model(X,y,kf1):\n",
        "    acc_score = []\n",
        "    pre_score = []\n",
        "    rec_score = []\n",
        "    f_score = []\n",
        "    models = []\n",
        "    for train_indices, test_indices in kf1.split(X):\n",
        "        X_train, X_test = X[train_indices], X[test_indices]\n",
        "        y_train, y_test = y[train_indices], y[test_indices]\n",
        "        model = LogisticRegression(solver='liblinear')\n",
        "        model.fit(X_train,y_train)\n",
        "        models.append(model)\n",
        "        y_pred = model.predict(X_test)\n",
        "        acc_score.append(accuracy_score(y_test,y_pred))\n",
        "        pre_score.append(precision_score(y_test,y_pred))\n",
        "        rec_score.append(recall_score(y_test,y_pred))\n",
        "        f_score.append(f1_score(y_test,y_pred))\n",
        "    print(\"Accuracy : \" + str(np.mean(acc_score)))\n",
        "    print(\"Precision: \" + str(np.mean(pre_score)))\n",
        "    print(\"Recall   : \" + str(np.mean(rec_score)))\n",
        "    print(\"Accuracy : \" + str(np.mean(f_score)) + \"\\n\")\n",
        "    return models\n",
        "\n",
        "kf = KFold(n_splits = 5, shuffle = True)\n",
        "\n",
        "models = score_model(X_features, Y_labels, kf)\n",
        "\n",
        "for model in models:\n",
        "    y_pred_proba = model.predict_proba(X_test)\n",
        "    fpr, tpr, thresholds = roc_curve(y_test, y_pred_proba[:,1])\n",
        "    print(\"AUC score:\", roc_auc_score(y_test, y_pred_proba[:, 1]))\n",
        "    \n",
        "    plt.plot(fpr, tpr)\n",
        "    plt.plot([0, 1], [0, 1], linestyle='--')\n",
        "    plt.xlim([0.0, 1.0])\n",
        "    plt.ylim([0.0, 1.0])\n",
        "    plt.xlabel('1 - specificity')\n",
        "    plt.ylabel('sensitivity')\n",
        "    plt.show()"
      ]
    },
    {
      "cell_type": "markdown",
      "metadata": {
        "id": "DUqskQVk1gIA"
      },
      "source": [
        "Test the each model on the train set in order to verify."
      ]
    },
    {
      "cell_type": "code",
      "execution_count": null,
      "metadata": {
        "colab": {
          "base_uri": "https://localhost:8080/"
        },
        "id": "4x7q41gF1nG9",
        "outputId": "0418e019-b328-4629-b2e2-9bbb57b726d7"
      },
      "outputs": [
        {
          "output_type": "stream",
          "name": "stdout",
          "text": [
            "\n",
            "Model 1:\n",
            "AUC score: 0.9125874125874127\n",
            "Accuracy: 0.7457627118644068\n",
            "Precision: 1.0\n",
            "Recall: 0.5454545454545454\n",
            "F1 score: 0.7058823529411764\n",
            "\n",
            "Model 2:\n",
            "AUC score: 0.9195804195804196\n",
            "Accuracy: 0.7796610169491526\n",
            "Precision: 1.0\n",
            "Recall: 0.6060606060606061\n",
            "F1 score: 0.7547169811320755\n",
            "\n",
            "Model 3:\n",
            "AUC score: 0.914918414918415\n",
            "Accuracy: 0.7796610169491526\n",
            "Precision: 1.0\n",
            "Recall: 0.6060606060606061\n",
            "F1 score: 0.7547169811320755\n",
            "\n",
            "Model 4:\n",
            "AUC score: 0.9195804195804196\n",
            "Accuracy: 0.7627118644067796\n",
            "Precision: 1.0\n",
            "Recall: 0.5757575757575758\n",
            "F1 score: 0.7307692307692308\n",
            "\n",
            "Model 5:\n",
            "AUC score: 0.9207459207459208\n",
            "Accuracy: 0.7796610169491526\n",
            "Precision: 1.0\n",
            "Recall: 0.6060606060606061\n",
            "F1 score: 0.7547169811320755\n"
          ]
        }
      ],
      "source": [
        "model_num = 1\n",
        "for model in models:\n",
        "  print(\"\\nModel \" + str(model_num) + \":\")\n",
        "  y_pred_proba = model.predict_proba(X_test)\n",
        "  print(\"AUC score:\", roc_auc_score(y_test, y_pred_proba[:, 1]))\n",
        "  print(\"Accuracy:\", accuracy_score(y_test,y_pred_proba[:, 1] > 0.75))\n",
        "  print(\"Precision:\", precision_score(y_test,y_pred_proba[:, 1] > 0.75))\n",
        "  print(\"Recall:\", recall_score(y_test,y_pred_proba[:, 1] > 0.75))\n",
        "  print(\"F1 score:\", f1_score(y_test,y_pred_proba[:, 1] > 0.75))\n",
        "  model_num += 1"
      ]
    },
    {
      "cell_type": "markdown",
      "metadata": {
        "id": "nDFWhsvWa_g6"
      },
      "source": [
        "# Random Forest Classifier"
      ]
    },
    {
      "cell_type": "code",
      "execution_count": null,
      "metadata": {
        "colab": {
          "base_uri": "https://localhost:8080/"
        },
        "id": "wPp2pVAFavT9",
        "outputId": "9ab09809-d1b6-4ac4-c7bb-193829e530dc"
      },
      "outputs": [
        {
          "output_type": "stream",
          "name": "stdout",
          "text": [
            "0.9142857142857143\n",
            "0.9583333333333334\n"
          ]
        }
      ],
      "source": [
        "model = RandomForestClassifier()\n",
        "model.fit(X_train, y_train)\n",
        "\n",
        "y_pred = model.predict(X_test)\n",
        "print(precision_score(y_test, y_pred))\n",
        "\n",
        "y_pred1 = model.predict_proba(X_test)[:,1] > 0.75\n",
        "print(precision_score(y_test,y_pred1))"
      ]
    },
    {
      "cell_type": "code",
      "execution_count": null,
      "metadata": {
        "colab": {
          "base_uri": "https://localhost:8080/",
          "height": 300
        },
        "id": "LpkmIl5RavnU",
        "outputId": "73f411ec-459f-4684-fcf2-263b5c33fbf4"
      },
      "outputs": [
        {
          "output_type": "stream",
          "name": "stdout",
          "text": [
            "AUC score: 0.974941724941725\n"
          ]
        },
        {
          "output_type": "display_data",
          "data": {
            "text/plain": [
              "<Figure size 432x288 with 1 Axes>"
            ],
            "image/png": "[encoded data removed]"
          },
          "metadata": {
            "needs_background": "light"
          }
        }
      ],
      "source": [
        "from sklearn.metrics import roc_curve\n",
        "\n",
        "y_pred_proba = model.predict_proba(X_test)\n",
        "fpr, tpr, thresholds = roc_curve(y_test, y_pred_proba[:,1])\n",
        "print(\"AUC score:\", roc_auc_score(y_test, y_pred_proba[:, 1]))\n",
        "\n",
        "plt.plot(fpr, tpr)\n",
        "plt.plot([0, 1], [0, 1], linestyle='--')\n",
        "plt.xlim([0.0, 1.0])\n",
        "plt.ylim([0.0, 1.0])\n",
        "plt.xlabel('1 - specificity')\n",
        "plt.ylabel('sensitivity')\n",
        "plt.show()"
      ]
    },
    {
      "cell_type": "code",
      "execution_count": null,
      "metadata": {
        "colab": {
          "base_uri": "https://localhost:8080/",
          "height": 1000
        },
        "id": "hrfJXjjaavrQ",
        "outputId": "2b5caa4e-9bd1-419f-88e1-aaea80206782"
      },
      "outputs": [
        {
          "output_type": "stream",
          "name": "stdout",
          "text": [
            "Accuracy : 0.8163062536528345\n",
            "Precision: 0.8402688339010218\n",
            "Recall   : 0.7909846475363717\n",
            "Accuracy : 0.8120246966148604\n",
            "\n",
            "AUC score: 0.9254079254079254\n"
          ]
        },
        {
          "output_type": "display_data",
          "data": {
            "text/plain": [
              "<Figure size 432x288 with 1 Axes>"
            ],
            "image/png": "[encoded data removed]"
          },
          "metadata": {
            "needs_background": "light"
          }
        },
        {
          "output_type": "stream",
          "name": "stdout",
          "text": [
            "AUC score: 0.9230769230769231\n"
          ]
        },
        {
          "output_type": "display_data",
          "data": {
            "text/plain": [
              "<Figure size 432x288 with 1 Axes>"
            ],
            "image/png": "[encoded data removed]"
          },
          "metadata": {
            "needs_background": "light"
          }
        },
        {
          "output_type": "stream",
          "name": "stdout",
          "text": [
            "AUC score: 0.9172494172494172\n"
          ]
        },
        {
          "output_type": "display_data",
          "data": {
            "text/plain": [
              "<Figure size 432x288 with 1 Axes>"
            ],
            "image/png": "[encoded data removed]"
          },
          "metadata": {
            "needs_background": "light"
          }
        },
        {
          "output_type": "stream",
          "name": "stdout",
          "text": [
            "AUC score: 0.916083916083916\n"
          ]
        },
        {
          "output_type": "display_data",
          "data": {
            "text/plain": [
              "<Figure size 432x288 with 1 Axes>"
            ],
            "image/png": "[encoded data removed]"
          },
          "metadata": {
            "needs_background": "light"
          }
        },
        {
          "output_type": "stream",
          "name": "stdout",
          "text": [
            "AUC score: 0.916083916083916\n"
          ]
        },
        {
          "output_type": "display_data",
          "data": {
            "text/plain": [
              "<Figure size 432x288 with 1 Axes>"
            ],
            "image/png": "[encoded data removed]"
          },
          "metadata": {
            "needs_background": "light"
          }
        }
      ],
      "source": [
        "from sklearn.model_selection import KFold\n",
        "import numpy as  np\n",
        "from sklearn.metrics import roc_auc_score\n",
        "from sklearn.linear_model import LogisticRegression\n",
        "from sklearn.metrics import accuracy_score, precision_score, recall_score, f1_score\n",
        "\n",
        "def score_model(X,y,kf1):\n",
        "    acc_score = []\n",
        "    pre_score = []\n",
        "    rec_score = []\n",
        "    f_score = []\n",
        "    models = []\n",
        "    for train_indices, test_indices in kf1.split(X):\n",
        "        X_train, X_test = X[train_indices], X[test_indices]\n",
        "        y_train, y_test = y[train_indices], y[test_indices]\n",
        "        model = LogisticRegression(solver='liblinear')\n",
        "        model.fit(X_train,y_train)\n",
        "        models.append(model)\n",
        "        y_pred = model.predict(X_test)\n",
        "        acc_score.append(accuracy_score(y_test,y_pred))\n",
        "        pre_score.append(precision_score(y_test,y_pred))\n",
        "        rec_score.append(recall_score(y_test,y_pred))\n",
        "        f_score.append(f1_score(y_test,y_pred))\n",
        "    print(\"Accuracy : \" + str(np.mean(acc_score)))\n",
        "    print(\"Precision: \" + str(np.mean(pre_score)))\n",
        "    print(\"Recall   : \" + str(np.mean(rec_score)))\n",
        "    print(\"Accuracy : \" + str(np.mean(f_score)) + \"\\n\")\n",
        "    return models\n",
        "\n",
        "kf = KFold(n_splits = 5, shuffle = True)\n",
        "\n",
        "models = score_model(X_features, Y_labels, kf)\n",
        "\n",
        "for model in models:\n",
        "    y_pred_proba = model.predict_proba(X_test)\n",
        "    fpr, tpr, thresholds = roc_curve(y_test, y_pred_proba[:,1])\n",
        "    print(\"AUC score:\", roc_auc_score(y_test, y_pred_proba[:, 1]))\n",
        "    \n",
        "    plt.plot(fpr, tpr)\n",
        "    plt.plot([0, 1], [0, 1], linestyle='--')\n",
        "    plt.xlim([0.0, 1.0])\n",
        "    plt.ylim([0.0, 1.0])\n",
        "    plt.xlabel('1 - specificity')\n",
        "    plt.ylabel('sensitivity')\n",
        "    plt.show()"
      ]
    },
    {
      "cell_type": "code",
      "execution_count": null,
      "metadata": {
        "colab": {
          "base_uri": "https://localhost:8080/"
        },
        "id": "qcO0m4luavwr",
        "outputId": "12f6ff9e-b688-439a-bc15-dcc37aceaf75"
      },
      "outputs": [
        {
          "output_type": "stream",
          "name": "stdout",
          "text": [
            "\n",
            "Model 1:\n",
            "AUC score: 0.9254079254079254\n",
            "Accuracy: 0.7796610169491526\n",
            "Precision: 1.0\n",
            "Recall: 0.6060606060606061\n",
            "F1 score: 0.7547169811320755\n",
            "\n",
            "Model 2:\n",
            "AUC score: 0.9230769230769231\n",
            "Accuracy: 0.7627118644067796\n",
            "Precision: 1.0\n",
            "Recall: 0.5757575757575758\n",
            "F1 score: 0.7307692307692308\n",
            "\n",
            "Model 3:\n",
            "AUC score: 0.9172494172494172\n",
            "Accuracy: 0.7627118644067796\n",
            "Precision: 1.0\n",
            "Recall: 0.5757575757575758\n",
            "F1 score: 0.7307692307692308\n",
            "\n",
            "Model 4:\n",
            "AUC score: 0.916083916083916\n",
            "Accuracy: 0.7796610169491526\n",
            "Precision: 1.0\n",
            "Recall: 0.6060606060606061\n",
            "F1 score: 0.7547169811320755\n",
            "\n",
            "Model 5:\n",
            "AUC score: 0.916083916083916\n",
            "Accuracy: 0.7966101694915254\n",
            "Precision: 1.0\n",
            "Recall: 0.6363636363636364\n",
            "F1 score: 0.7777777777777778\n"
          ]
        }
      ],
      "source": [
        "model_num = 1\n",
        "for model in models:\n",
        "  print(\"\\nModel \" + str(model_num) + \":\")\n",
        "  y_pred_proba = model.predict_proba(X_test)\n",
        "  print(\"AUC score:\", roc_auc_score(y_test, y_pred_proba[:, 1]))\n",
        "  print(\"Accuracy:\", accuracy_score(y_test,y_pred_proba[:, 1] > 0.75))\n",
        "  print(\"Precision:\", precision_score(y_test,y_pred_proba[:, 1] > 0.75))\n",
        "  print(\"Recall:\", recall_score(y_test,y_pred_proba[:, 1] > 0.75))\n",
        "  print(\"F1 score:\", f1_score(y_test,y_pred_proba[:, 1] > 0.75))\n",
        "  model_num += 1"
      ]
    },
    {
      "cell_type": "markdown",
      "source": [
        "# Naive Bayes Classifier"
      ],
      "metadata": {
        "id": "pyESUGK2v_gk"
      }
    },
    {
      "cell_type": "code",
      "execution_count": null,
      "metadata": {
        "colab": {
          "base_uri": "https://localhost:8080/"
        },
        "id": "RLsT7H2Xavzv",
        "outputId": "5de642f2-3f38-49a6-dfc6-0fdb4285d612"
      },
      "outputs": [
        {
          "output_type": "stream",
          "name": "stdout",
          "text": [
            "0.8260869565217391\n",
            "0.8260869565217391\n"
          ]
        }
      ],
      "source": [
        "model = Naive_Bayes()\n",
        "model.fit(X_train, y_train)\n",
        "\n",
        "y_pred = model.predict(X_test)\n",
        "print(precision_score(y_test, y_pred))\n",
        "\n",
        "y_pred1 = model.predict_proba(X_test)[:,1] > 0.75\n",
        "print(precision_score(y_test,y_pred1))"
      ]
    },
    {
      "cell_type": "code",
      "execution_count": null,
      "metadata": {
        "colab": {
          "base_uri": "https://localhost:8080/",
          "height": 300
        },
        "id": "JqpGLBxFav3I",
        "outputId": "9a41c120-d0b7-45e5-e336-860681b87fd6"
      },
      "outputs": [
        {
          "output_type": "stream",
          "name": "stdout",
          "text": [
            "AUC score: 0.8216783216783217\n"
          ]
        },
        {
          "output_type": "display_data",
          "data": {
            "text/plain": [
              "<Figure size 432x288 with 1 Axes>"
            ],
            "image/png": "[encoded data removed]"
          },
          "metadata": {
            "needs_background": "light"
          }
        }
      ],
      "source": [
        "from sklearn.metrics import roc_curve\n",
        "\n",
        "y_pred_proba = model.predict_proba(X_test)\n",
        "fpr, tpr, thresholds = roc_curve(y_test, y_pred_proba[:,1])\n",
        "print(\"AUC score:\", roc_auc_score(y_test, y_pred_proba[:, 1]))\n",
        "\n",
        "plt.plot(fpr, tpr)\n",
        "plt.plot([0, 1], [0, 1], linestyle='--')\n",
        "plt.xlim([0.0, 1.0])\n",
        "plt.ylim([0.0, 1.0])\n",
        "plt.xlabel('1 - specificity')\n",
        "plt.ylabel('sensitivity')\n",
        "plt.show()"
      ]
    },
    {
      "cell_type": "code",
      "execution_count": null,
      "metadata": {
        "colab": {
          "base_uri": "https://localhost:8080/",
          "height": 1000
        },
        "id": "oNkHhwzSav66",
        "outputId": "f99762d4-1d31-4376-ba54-fab1a466f8a0"
      },
      "outputs": [
        {
          "output_type": "stream",
          "name": "stdout",
          "text": [
            "Accuracy : 0.8029222676797195\n",
            "Precision: 0.8315292712066904\n",
            "Recall   : 0.7764371935895852\n",
            "Accuracy : 0.7961768071960569\n",
            "\n",
            "AUC score: 0.9137529137529138\n"
          ]
        },
        {
          "output_type": "display_data",
          "data": {
            "text/plain": [
              "<Figure size 432x288 with 1 Axes>"
            ],
            "image/png": "[encoded data removed]"
          },
          "metadata": {
            "needs_background": "light"
          }
        },
        {
          "output_type": "stream",
          "name": "stdout",
          "text": [
            "AUC score: 0.9184149184149184\n"
          ]
        },
        {
          "output_type": "display_data",
          "data": {
            "text/plain": [
              "<Figure size 432x288 with 1 Axes>"
            ],
            "image/png": "[encoded data removed]"
          },
          "metadata": {
            "needs_background": "light"
          }
        },
        {
          "output_type": "stream",
          "name": "stdout",
          "text": [
            "AUC score: 0.921911421911422\n"
          ]
        },
        {
          "output_type": "display_data",
          "data": {
            "text/plain": [
              "<Figure size 432x288 with 1 Axes>"
            ],
            "image/png": "[encoded data removed]"
          },
          "metadata": {
            "needs_background": "light"
          }
        },
        {
          "output_type": "stream",
          "name": "stdout",
          "text": [
            "AUC score: 0.9230769230769231\n"
          ]
        },
        {
          "output_type": "display_data",
          "data": {
            "text/plain": [
              "<Figure size 432x288 with 1 Axes>"
            ],
            "image/png": "[encoded data removed]"
          },
          "metadata": {
            "needs_background": "light"
          }
        },
        {
          "output_type": "stream",
          "name": "stdout",
          "text": [
            "AUC score: 0.914918414918415\n"
          ]
        },
        {
          "output_type": "display_data",
          "data": {
            "text/plain": [
              "<Figure size 432x288 with 1 Axes>"
            ],
            "image/png": "[encoded data removed]"
          },
          "metadata": {
            "needs_background": "light"
          }
        }
      ],
      "source": [
        "from sklearn.model_selection import KFold\n",
        "import numpy as  np\n",
        "from sklearn.metrics import roc_auc_score\n",
        "from sklearn.linear_model import LogisticRegression\n",
        "from sklearn.metrics import accuracy_score, precision_score, recall_score, f1_score\n",
        "\n",
        "def score_model(X,y,kf1):\n",
        "    acc_score = []\n",
        "    pre_score = []\n",
        "    rec_score = []\n",
        "    f_score = []\n",
        "    models = []\n",
        "    for train_indices, test_indices in kf1.split(X):\n",
        "        X_train, X_test = X[train_indices], X[test_indices]\n",
        "        y_train, y_test = y[train_indices], y[test_indices]\n",
        "        model = LogisticRegression(solver='liblinear')\n",
        "        model.fit(X_train,y_train)\n",
        "        models.append(model)\n",
        "        y_pred = model.predict(X_test)\n",
        "        acc_score.append(accuracy_score(y_test,y_pred))\n",
        "        pre_score.append(precision_score(y_test,y_pred))\n",
        "        rec_score.append(recall_score(y_test,y_pred))\n",
        "        f_score.append(f1_score(y_test,y_pred))\n",
        "    print(\"Accuracy : \" + str(np.mean(acc_score)))\n",
        "    print(\"Precision: \" + str(np.mean(pre_score)))\n",
        "    print(\"Recall   : \" + str(np.mean(rec_score)))\n",
        "    print(\"Accuracy : \" + str(np.mean(f_score)) + \"\\n\")\n",
        "    return models\n",
        "\n",
        "kf = KFold(n_splits = 5, shuffle = True)\n",
        "\n",
        "models = score_model(X_features, Y_labels, kf)\n",
        "\n",
        "for model in models:\n",
        "    y_pred_proba = model.predict_proba(X_test)\n",
        "    fpr, tpr, thresholds = roc_curve(y_test, y_pred_proba[:,1])\n",
        "    print(\"AUC score:\", roc_auc_score(y_test, y_pred_proba[:, 1]))\n",
        "    \n",
        "    plt.plot(fpr, tpr)\n",
        "    plt.plot([0, 1], [0, 1], linestyle='--')\n",
        "    plt.xlim([0.0, 1.0])\n",
        "    plt.ylim([0.0, 1.0])\n",
        "    plt.xlabel('1 - specificity')\n",
        "    plt.ylabel('sensitivity')\n",
        "    plt.show()"
      ]
    },
    {
      "cell_type": "code",
      "execution_count": null,
      "metadata": {
        "colab": {
          "base_uri": "https://localhost:8080/"
        },
        "id": "t4yQB7Jjav-T",
        "outputId": "a69cfb35-bf35-4c2a-b5dc-b3d9d87f754e"
      },
      "outputs": [
        {
          "output_type": "stream",
          "name": "stdout",
          "text": [
            "\n",
            "Model 1:\n",
            "AUC score: 0.9137529137529138\n",
            "Accuracy: 0.7288135593220338\n",
            "Precision: 1.0\n",
            "Recall: 0.5151515151515151\n",
            "F1 score: 0.6799999999999999\n",
            "\n",
            "Model 2:\n",
            "AUC score: 0.9184149184149184\n",
            "Accuracy: 0.7796610169491526\n",
            "Precision: 1.0\n",
            "Recall: 0.6060606060606061\n",
            "F1 score: 0.7547169811320755\n",
            "\n",
            "Model 3:\n",
            "AUC score: 0.921911421911422\n",
            "Accuracy: 0.7796610169491526\n",
            "Precision: 1.0\n",
            "Recall: 0.6060606060606061\n",
            "F1 score: 0.7547169811320755\n",
            "\n",
            "Model 4:\n",
            "AUC score: 0.9230769230769231\n",
            "Accuracy: 0.7966101694915254\n",
            "Precision: 1.0\n",
            "Recall: 0.6363636363636364\n",
            "F1 score: 0.7777777777777778\n",
            "\n",
            "Model 5:\n",
            "AUC score: 0.914918414918415\n",
            "Accuracy: 0.7627118644067796\n",
            "Precision: 1.0\n",
            "Recall: 0.5757575757575758\n",
            "F1 score: 0.7307692307692308\n"
          ]
        }
      ],
      "source": [
        "model_num = 1\n",
        "for model in models:\n",
        "  print(\"\\nModel \" + str(model_num) + \":\")\n",
        "  y_pred_proba = model.predict_proba(X_test)\n",
        "  print(\"AUC score:\", roc_auc_score(y_test, y_pred_proba[:, 1]))\n",
        "  print(\"Accuracy:\", accuracy_score(y_test,y_pred_proba[:, 1] > 0.75))\n",
        "  print(\"Precision:\", precision_score(y_test,y_pred_proba[:, 1] > 0.75))\n",
        "  print(\"Recall:\", recall_score(y_test,y_pred_proba[:, 1] > 0.75))\n",
        "  print(\"F1 score:\", f1_score(y_test,y_pred_proba[:, 1] > 0.75))\n",
        "  model_num += 1"
      ]
    },
    {
      "cell_type": "code",
      "execution_count": null,
      "metadata": {
        "id": "lLcDV1cgawB2"
      },
      "outputs": [],
      "source": []
    },
    {
      "cell_type": "code",
      "execution_count": null,
      "metadata": {
        "colab": {
          "base_uri": "https://localhost:8080/"
        },
        "id": "SqqK_DhgfLm6",
        "outputId": "fc7199d5-88af-482c-b496-f959e368eddf"
      },
      "outputs": [
        {
          "output_type": "stream",
          "name": "stdout",
          "text": [
            "              precision    recall  f1-score   support\n",
            "\n",
            "           0       0.88      0.85      0.86        26\n",
            "           1       0.88      0.91      0.90        33\n",
            "\n",
            "    accuracy                           0.88        59\n",
            "   macro avg       0.88      0.88      0.88        59\n",
            "weighted avg       0.88      0.88      0.88        59\n",
            "\n"
          ]
        }
      ],
      "source": [
        "rfc = RandomForestClassifier()\n",
        "rfc.fit(X_train, y_train)\n",
        "predRF = rfc.predict(X_test)\n",
        "\n",
        "print(classification_report(y_test, predRF))"
      ]
    },
    {
      "cell_type": "code",
      "execution_count": null,
      "metadata": {
        "id": "TMXZsc9ofLqR"
      },
      "outputs": [],
      "source": [
        "param_grid = { \n",
        "     'n_estimators': range(100,300,25),\n",
        "    'max_features': ['auto', 'sqrt', 'log2'],\n",
        "    'max_depth' :range(1,10),\n",
        "    'random_state':range(100,250,50),\n",
        "    'criterion' :['gini', 'entropy']\n",
        "}\n",
        "CV_rfc = GridSearchCV(estimator=rfc, param_grid=param_grid, cv= 5)\n",
        "CV_rfc.fit(X_train, y_train)"
      ]
    },
    {
      "cell_type": "code",
      "execution_count": null,
      "metadata": {
        "id": "QoUI1NyCfLux"
      },
      "outputs": [],
      "source": [
        "CV_rfc.best_params_"
      ]
    },
    {
      "cell_type": "code",
      "execution_count": null,
      "metadata": {
        "id": "lmz4ZdiVfLy7"
      },
      "outputs": [],
      "source": [
        "rfc1=RandomForestClassifier(random_state=200, max_features='auto', n_estimators= 125, max_depth=7, criterion='entropy')\n",
        "rfc1.fit(X_train, y_train)\n",
        "predRFC = rfc1.predict(X_test)\n",
        "print(classification_report(y_test, predRFC))"
      ]
    },
    {
      "cell_type": "code",
      "execution_count": null,
      "metadata": {
        "id": "LzWQT1u6fL3H"
      },
      "outputs": [],
      "source": [
        "plot_confusion_matrix(rfc1, X_test, y_test, cmap=plt.cm.Blues) \n",
        "plt.title('Confusion matrix for Random Forest', y=1.1)\n",
        "plt.show()"
      ]
    },
    {
      "cell_type": "code",
      "execution_count": null,
      "metadata": {
        "id": "_FS8CHeBfL4N"
      },
      "outputs": [],
      "source": [
        "# Naive Bayes\n",
        "\n",
        "gnb = Naive_Bayes()\n",
        "gnb.fit(X_train, y_train)\n",
        "predgnb = gnb.predict(X_test)\n",
        "\n",
        "print(classification_report(y_test, predgnb))"
      ]
    },
    {
      "cell_type": "code",
      "execution_count": null,
      "metadata": {
        "id": "DbdKgQsbawEV"
      },
      "outputs": [],
      "source": [
        "print(\"Confusion Matrix:\")\n",
        "confusion_matrix(y_test, predgnb)"
      ]
    },
    {
      "cell_type": "code",
      "execution_count": null,
      "metadata": {
        "id": "N_Ioj2ovawHD"
      },
      "outputs": [],
      "source": [
        "# scores -check how efficiently labels are predicted\n",
        "accuracy_testing = accuracy_score(y_test, predgnb)\n",
        "print(\"Accuracy % :\",accuracy_testing*100)"
      ]
    },
    {
      "cell_type": "code",
      "source": [
        "plot_confusion_matrix(gnb, X_test, y_test, cmap=plt.cm.Blues) \n",
        "plt.title('Confusion matrix for Naive Byes', y=1.1)\n",
        "plt.show()"
      ],
      "metadata": {
        "id": "aIK8zeuMNzuv"
      },
      "execution_count": null,
      "outputs": []
    },
    {
      "cell_type": "code",
      "source": [],
      "metadata": {
        "id": "FF5t_XvmOCV6"
      },
      "execution_count": null,
      "outputs": []
    },
    {
      "cell_type": "code",
      "source": [
        "clf = DecisionTreeClassifier()\n",
        "clf.fit(X_train, y_train)\n",
        "predDT = clf.predict(X_test)\n",
        "\n",
        "print(classification_report(y_test, predDT))"
      ],
      "metadata": {
        "colab": {
          "base_uri": "https://localhost:8080/"
        },
        "id": "9bv_rO2HzmDH",
        "outputId": "31055037-9d7c-4e80-b41b-2d34c98eee3a"
      },
      "execution_count": null,
      "outputs": [
        {
          "output_type": "stream",
          "name": "stdout",
          "text": [
            "              precision    recall  f1-score   support\n",
            "\n",
            "           0       0.96      0.85      0.90        26\n",
            "           1       0.89      0.97      0.93        33\n",
            "\n",
            "    accuracy                           0.92        59\n",
            "   macro avg       0.92      0.91      0.91        59\n",
            "weighted avg       0.92      0.92      0.91        59\n",
            "\n"
          ]
        }
      ]
    },
    {
      "cell_type": "code",
      "source": [
        "param_grid = { \n",
        "    'max_features': ['auto', 'sqrt', 'log2'],\n",
        "    'max_depth' :range(1,10),\n",
        "    'random_state':range(30,210,30),\n",
        "    'criterion' :['gini', 'entropy']\n",
        "}\n",
        "CV_dt = GridSearchCV(estimator=clf, param_grid=param_grid, cv= 5)\n",
        "CV_dt.fit(X_train, y_train)"
      ],
      "metadata": {
        "colab": {
          "base_uri": "https://localhost:8080/"
        },
        "id": "vGZeLKThzmBh",
        "outputId": "63f04b1c-9730-4ced-e85c-1173bf86ea36"
      },
      "execution_count": null,
      "outputs": [
        {
          "output_type": "execute_result",
          "data": {
            "text/plain": [
              "GridSearchCV(cv=5, estimator=DecisionTreeClassifier(),\n",
              "             param_grid={'criterion': ['gini', 'entropy'],\n",
              "                         'max_depth': range(1, 10),\n",
              "                         'max_features': ['auto', 'sqrt', 'log2'],\n",
              "                         'random_state': range(30, 210, 30)})"
            ]
          },
          "metadata": {},
          "execution_count": 36
        }
      ]
    },
    {
      "cell_type": "code",
      "source": [
        "CV_dt.best_params_"
      ],
      "metadata": {
        "colab": {
          "base_uri": "https://localhost:8080/"
        },
        "id": "Typ7fCVQzl7j",
        "outputId": "be62befc-5801-4e32-bbd1-881ac6f7cb6b"
      },
      "execution_count": null,
      "outputs": [
        {
          "output_type": "execute_result",
          "data": {
            "text/plain": [
              "{'criterion': 'entropy',\n",
              " 'max_depth': 8,\n",
              " 'max_features': 'auto',\n",
              " 'random_state': 90}"
            ]
          },
          "metadata": {},
          "execution_count": 37
        }
      ]
    },
    {
      "cell_type": "code",
      "source": [
        "from sklearn.tree import export_graphviz\n",
        "import graphviz\n",
        "from IPython.display import Image\n",
        "import cv2\n",
        "from google.colab.patches import cv2_imshow\n",
        "\n",
        "dt1=DecisionTreeClassifier(random_state=120, max_features='auto', max_depth=6, criterion='entropy')\n",
        "dt1.fit(X_train, y_train)\n",
        "predDT = dt1.predict(X_test) \n",
        "print(classification_report(y_test, predDT))\n",
        "\n",
        "# feature_names = ['MDVP:Fo(Hz)', 'MDVP:Fhi(Hz)', 'MDVP:Flo(Hz)', 'MDVP:Jitter(%)',\n",
        "#        'MDVP:Jitter(Abs)', 'MDVP:RAP', 'MDVP:PPQ', 'Jitter:DDP',\n",
        "#        'MDVP:Shimmer', 'MDVP:Shimmer(dB)', 'Shimmer:APQ3', 'Shimmer:APQ5',\n",
        "#        'MDVP:APQ', 'Shimmer:DDA', 'NHR', 'HNR', 'status', 'RPDE', 'DFA',\n",
        "#        'spread1', 'spread2', 'D2', 'PPE']\n",
        "\n",
        "dot_file = export_graphviz(dt1)\n",
        "graph = graphviz.Source(dot_file)\n",
        "graph.render(filename='tree', format='png', cleanup=True)"
      ],
      "metadata": {
        "colab": {
          "base_uri": "https://localhost:8080/",
          "height": 192
        },
        "id": "350Z3dTnzl4-",
        "outputId": "d25ff5e9-738f-4c91-83d8-6898d2ccff1e"
      },
      "execution_count": null,
      "outputs": [
        {
          "output_type": "stream",
          "name": "stdout",
          "text": [
            "              precision    recall  f1-score   support\n",
            "\n",
            "           0       0.79      0.85      0.81        26\n",
            "           1       0.87      0.82      0.84        33\n",
            "\n",
            "    accuracy                           0.83        59\n",
            "   macro avg       0.83      0.83      0.83        59\n",
            "weighted avg       0.83      0.83      0.83        59\n",
            "\n"
          ]
        },
        {
          "output_type": "execute_result",
          "data": {
            "text/plain": [
              "'tree.png'"
            ],
            "application/vnd.google.colaboratory.intrinsic+json": {
              "type": "string"
            }
          },
          "metadata": {},
          "execution_count": 40
        }
      ]
    },
    {
      "cell_type": "code",
      "source": [
        "plot_confusion_matrix(dt1, X_test, y_test, cmap=plt.cm.Blues) \n",
        "plt.title('Confusion matrix for Decision Tree', y=1.1)\n",
        "plt.show()"
      ],
      "metadata": {
        "id": "GFIFZxVezl04"
      },
      "execution_count": null,
      "outputs": []
    },
    {
      "cell_type": "code",
      "source": [
        "from sklearn.tree import DecisionTreeClassifier\n",
        "import pandas as pd\n",
        "from sklearn.model_selection import KFold\n",
        "from sklearn.metrics import accuracy_score, precision_score, recall_score\n",
        "import numpy as np\n",
        "\n",
        "df = pd.read_csv('https://sololearn.com/uploads/files/titanic.csv')\n",
        "df['male'] = df['Sex'] == 'male'\n",
        "X = df[['Pclass', 'male', 'Age', 'Siblings/Spouses', 'Parents/Children', 'Fare']].values\n",
        "y = df['Survived'].values\n",
        "\n",
        "kf = KFold(n_splits = 5, shuffle = True)\n",
        "\n",
        "for criterion in ['gini','entropy']:\n",
        "    print(\"Decision tree: \" + criterion)\n",
        "    accuracy = []\n",
        "    precision = []\n",
        "    recall = []\n",
        "    for train_index, test_index in kf.split(X):\n",
        "        X_train, X_test = X[train_index], X[test_index]\n",
        "        y_train, y_test = y[train_index], y[test_index]\n",
        "        dt  = DecisionTreeClassifier(criterion = criterion)\n",
        "        dt.fit(X_train, y_train)\n",
        "        y_pred = dt.predict(X_test)\n",
        "        accuracy.append(accuracy_score(y_test,y_pred))\n",
        "        precision.append(precision_score(y_test,y_pred))\n",
        "        recall.append(recall_score(y_test,y_pred))\n",
        "    print(\"Accuracy: \" + str(np.mean(accuracy)))\n",
        "    print(\"Precision: \" + str(np.mean(precision)))\n",
        "    print(\"Recall: \" + str(np.mean(recall)))\n",
        "    print(\"\")\n",
        "    "
      ],
      "metadata": {
        "id": "v5h55hGEzlnl"
      },
      "execution_count": null,
      "outputs": []
    },
    {
      "cell_type": "code",
      "source": [
        "from sklearn.tree import export_graphviz\n",
        "import graphviz\n",
        "from IPython.display import Image\n",
        "import cv2\n",
        "from google.colab.patches import cv2_imshow\n",
        "\n",
        "feature_names = ['Pclass', 'male']\n",
        "X = df[feature_names].values\n",
        "y = df['Survived'].values\n",
        "\n",
        "dt = DecisionTreeClassifier()\n",
        "dt.fit(X, y)\n",
        "\n",
        "dot_file = export_graphviz(dt, feature_names=feature_names)\n",
        "graph = graphviz.Source(dot_file)\n",
        "graph.render(filename='tree', format='png', cleanup=True)"
      ],
      "metadata": {
        "id": "1WMtvcgKOCIy"
      },
      "execution_count": null,
      "outputs": []
    },
    {
      "cell_type": "code",
      "source": [],
      "metadata": {
        "id": "CG2eqsli0v61"
      },
      "execution_count": null,
      "outputs": []
    }
  ],
  "metadata": {
    "colab": {
      "collapsed_sections": [
        "UnlaFttS1VLh",
        "AvZGcx0n1jb6",
        "V6d8mNWN1Tr8",
        "T3Ekp8cIVeDe",
        "YR5zvQq7VpHe"
      ],
      "provenance": []
    },
    "kernelspec": {
      "display_name": "Python 3",
      "name": "python3"
    },
    "language_info": {
      "name": "python"
    }
  },
  "nbformat": 4,
  "nbformat_minor": 0
}